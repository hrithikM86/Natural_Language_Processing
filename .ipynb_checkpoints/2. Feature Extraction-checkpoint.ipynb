{
 "cells": [
  {
   "cell_type": "markdown",
   "id": "b0a4fc56",
   "metadata": {},
   "source": [
    "Data Aquasation -> Data Preprocessing -> Feature Extraction -> Algorithms/Modelling -> Deployment"
   ]
  },
  {
   "cell_type": "raw",
   "id": "d7c939b7",
   "metadata": {},
   "source": [
    "Common Terms (Imagine a move dataset)\n",
    "1.Corpus       -> All the movie revies together\n",
    "2.Vocuabulary  -> All the words the movie revies are made up of\n",
    "3.Document     -> Individual movie review\n",
    "4.Word         -> Individual words"
   ]
  },
  {
   "cell_type": "markdown",
   "id": "3c21e87e",
   "metadata": {},
   "source": [
    "## Methods of Feature Extraction\n",
    "## 1. One hot encoding\n",
    "## 2. Bag of words       -> forming vectors using words"
   ]
  },
  {
   "cell_type": "code",
   "execution_count": 1,
   "id": "01bd78c8",
   "metadata": {},
   "outputs": [],
   "source": [
    "import pandas as pd\n",
    "import numpy as np"
   ]
  },
  {
   "cell_type": "code",
   "execution_count": 2,
   "id": "4bf32763",
   "metadata": {},
   "outputs": [],
   "source": [
    "df=pd.DataFrame({\"text\":[\"hrithik is good\",\"hrithik is wise\", \"wise are comments\", \"comment is hrithik\"],\"Output\":[\"1\",\"1\",\"0\",\"0\"]})"
   ]
  },
  {
   "cell_type": "code",
   "execution_count": 3,
   "id": "af713e9d",
   "metadata": {},
   "outputs": [
    {
     "data": {
      "text/html": [
       "<div>\n",
       "<style scoped>\n",
       "    .dataframe tbody tr th:only-of-type {\n",
       "        vertical-align: middle;\n",
       "    }\n",
       "\n",
       "    .dataframe tbody tr th {\n",
       "        vertical-align: top;\n",
       "    }\n",
       "\n",
       "    .dataframe thead th {\n",
       "        text-align: right;\n",
       "    }\n",
       "</style>\n",
       "<table border=\"1\" class=\"dataframe\">\n",
       "  <thead>\n",
       "    <tr style=\"text-align: right;\">\n",
       "      <th></th>\n",
       "      <th>text</th>\n",
       "      <th>Output</th>\n",
       "    </tr>\n",
       "  </thead>\n",
       "  <tbody>\n",
       "    <tr>\n",
       "      <th>0</th>\n",
       "      <td>hrithik is good</td>\n",
       "      <td>1</td>\n",
       "    </tr>\n",
       "    <tr>\n",
       "      <th>1</th>\n",
       "      <td>hrithik is wise</td>\n",
       "      <td>1</td>\n",
       "    </tr>\n",
       "    <tr>\n",
       "      <th>2</th>\n",
       "      <td>wise are comments</td>\n",
       "      <td>0</td>\n",
       "    </tr>\n",
       "    <tr>\n",
       "      <th>3</th>\n",
       "      <td>comment is hrithik</td>\n",
       "      <td>0</td>\n",
       "    </tr>\n",
       "  </tbody>\n",
       "</table>\n",
       "</div>"
      ],
      "text/plain": [
       "                 text Output\n",
       "0     hrithik is good      1\n",
       "1     hrithik is wise      1\n",
       "2   wise are comments      0\n",
       "3  comment is hrithik      0"
      ]
     },
     "execution_count": 3,
     "metadata": {},
     "output_type": "execute_result"
    }
   ],
   "source": [
    "df"
   ]
  },
  {
   "cell_type": "markdown",
   "id": "d7184d3a",
   "metadata": {},
   "source": [
    "https://scikit-learn.org/stable/modules/generated/sklearn.feature_extraction.text.CountVectorizer.html"
   ]
  },
  {
   "cell_type": "code",
   "execution_count": 4,
   "id": "c841e9cb",
   "metadata": {},
   "outputs": [
    {
     "name": "stderr",
     "output_type": "stream",
     "text": [
      "C:\\Users\\hrith\\AppData\\Local\\Programs\\Python\\Python310\\lib\\site-packages\\scipy\\__init__.py:146: UserWarning: A NumPy version >=1.17.3 and <1.25.0 is required for this version of SciPy (detected version 1.25.0\n",
      "  warnings.warn(f\"A NumPy version >={np_minversion} and <{np_maxversion}\"\n"
     ]
    }
   ],
   "source": [
    "from sklearn.feature_extraction.text import CountVectorizer\n",
    "cv=CountVectorizer()"
   ]
  },
  {
   "cell_type": "code",
   "execution_count": 5,
   "id": "963da6d6",
   "metadata": {},
   "outputs": [],
   "source": [
    "bow=cv.fit_transform(df['text'])"
   ]
  },
  {
   "cell_type": "code",
   "execution_count": 13,
   "id": "f03710b2",
   "metadata": {},
   "outputs": [
    {
     "data": {
      "text/plain": [
       "<4x7 sparse matrix of type '<class 'numpy.int64'>'\n",
       "\twith 12 stored elements in Compressed Sparse Row format>"
      ]
     },
     "execution_count": 13,
     "metadata": {},
     "output_type": "execute_result"
    }
   ],
   "source": [
    "bow"
   ]
  },
  {
   "cell_type": "code",
   "execution_count": 16,
   "id": "772193a6",
   "metadata": {},
   "outputs": [
    {
     "name": "stdout",
     "output_type": "stream",
     "text": [
      "{'hrithik': 4, 'is': 5, 'good': 3, 'wise': 6, 'are': 0, 'comments': 2, 'comment': 1}\n"
     ]
    }
   ],
   "source": [
    "print(cv.vocabulary_)        \n",
    "#The following are the words in test dataset, \n",
    "#now a word vector of all reviews will be formed using this words as identity element\n",
    "#That is every review will now be a 6 dimensional vector"
   ]
  },
  {
   "cell_type": "code",
   "execution_count": 21,
   "id": "abcc0b38",
   "metadata": {},
   "outputs": [
    {
     "name": "stdout",
     "output_type": "stream",
     "text": [
      "[[0 0 0 1 1 1 0]]\n"
     ]
    }
   ],
   "source": [
    "print(bow[0].toarray())              #this is vector for \"hrithik is good\""
   ]
  },
  {
   "cell_type": "code",
   "execution_count": 23,
   "id": "e2c6775d",
   "metadata": {},
   "outputs": [
    {
     "data": {
      "text/plain": [
       "array([[0, 0, 0, 0, 1, 1, 0]], dtype=int64)"
      ]
     },
     "execution_count": 23,
     "metadata": {},
     "output_type": "execute_result"
    }
   ],
   "source": [
    "#Giving new letter\n",
    "cv.transform([\" hrithik is naughy\"]).toarray()             #naughty is ignored as it is not a identity vector"
   ]
  },
  {
   "cell_type": "markdown",
   "id": "8f84715c",
   "metadata": {},
   "source": [
    "## 3. N_grams -> like bag of words, but instead of words a set of words is taken"
   ]
  },
  {
   "cell_type": "code",
   "execution_count": 35,
   "id": "2e6559ee",
   "metadata": {},
   "outputs": [],
   "source": [
    "# 2 gram\n",
    "cv=CountVectorizer(ngram_range=(2,2))"
   ]
  },
  {
   "cell_type": "code",
   "execution_count": 36,
   "id": "7f6f34bf",
   "metadata": {},
   "outputs": [],
   "source": [
    "gram_2=cv.fit_transform(df['text'])"
   ]
  },
  {
   "cell_type": "code",
   "execution_count": 37,
   "id": "be4322cf",
   "metadata": {},
   "outputs": [
    {
     "name": "stdout",
     "output_type": "stream",
     "text": [
      "{'hrithik is': 2, 'is good': 3, 'is wise': 5, 'wise are': 6, 'are comments': 0, 'comment is': 1, 'is hrithik': 4}\n"
     ]
    }
   ],
   "source": [
    "print(cv.vocabulary_) "
   ]
  },
  {
   "cell_type": "code",
   "execution_count": 38,
   "id": "24981974",
   "metadata": {},
   "outputs": [
    {
     "name": "stdout",
     "output_type": "stream",
     "text": [
      "[[0 0 1 1 0 0 0]]\n"
     ]
    }
   ],
   "source": [
    "print(gram_2[0].toarray())"
   ]
  },
  {
   "cell_type": "code",
   "execution_count": 39,
   "id": "57cb065a",
   "metadata": {},
   "outputs": [],
   "source": [
    "# 1-2 gram\n",
    "cv=CountVectorizer(ngram_range=(1,2))"
   ]
  },
  {
   "cell_type": "code",
   "execution_count": 40,
   "id": "f973be4f",
   "metadata": {},
   "outputs": [],
   "source": [
    "gram_1_2=cv.fit_transform(df['text'])"
   ]
  },
  {
   "cell_type": "code",
   "execution_count": 41,
   "id": "71b5e7c5",
   "metadata": {},
   "outputs": [
    {
     "name": "stdout",
     "output_type": "stream",
     "text": [
      "{'hrithik': 6, 'is': 8, 'good': 5, 'hrithik is': 7, 'is good': 9, 'wise': 12, 'is wise': 11, 'are': 0, 'comments': 4, 'wise are': 13, 'are comments': 1, 'comment': 2, 'comment is': 3, 'is hrithik': 10}\n"
     ]
    }
   ],
   "source": [
    "print(cv.vocabulary_) "
   ]
  },
  {
   "cell_type": "code",
   "execution_count": 42,
   "id": "d926c824",
   "metadata": {},
   "outputs": [
    {
     "name": "stdout",
     "output_type": "stream",
     "text": [
      "[[0 0 0 0 0 1 1 1 1 1 0 0 0 0]]\n"
     ]
    }
   ],
   "source": [
    "print(gram_1_2[0].toarray())"
   ]
  },
  {
   "cell_type": "markdown",
   "id": "1bb42b58",
   "metadata": {},
   "source": [
    "## 4.TF_IDF"
   ]
  },
  {
   "cell_type": "raw",
   "id": "6208aedc",
   "metadata": {},
   "source": [
    "TF=(Number of occurrences of term t in document d )/(total number of terms in document d)"
   ]
  },
  {
   "cell_type": "raw",
   "id": "96503cbc",
   "metadata": {},
   "source": [
    "IDF= log2((total no of documenets in corpus )/(number of documents with word d in them))"
   ]
  },
  {
   "cell_type": "raw",
   "id": "f308f73c",
   "metadata": {},
   "source": [
    "now we calculate TF*TDF to decide the weight factor of the word"
   ]
  },
  {
   "cell_type": "code",
   "execution_count": 43,
   "id": "e6baf81d",
   "metadata": {},
   "outputs": [],
   "source": [
    "from sklearn.feature_extraction.text import TfidfVectorizer"
   ]
  },
  {
   "cell_type": "code",
   "execution_count": 44,
   "id": "4cda4c6b",
   "metadata": {},
   "outputs": [],
   "source": [
    "tfidf=TfidfVectorizer()"
   ]
  },
  {
   "cell_type": "code",
   "execution_count": 45,
   "id": "b8b3b32f",
   "metadata": {},
   "outputs": [
    {
     "data": {
      "text/plain": [
       "array([[0.        , 0.        , 0.        , 0.74230628, 0.47380449,\n",
       "        0.47380449, 0.        ],\n",
       "       [0.        , 0.        , 0.        , 0.        , 0.53256952,\n",
       "        0.53256952, 0.65782931],\n",
       "       [0.61761437, 0.        , 0.61761437, 0.        , 0.        ,\n",
       "        0.        , 0.48693426],\n",
       "       [0.        , 0.74230628, 0.        , 0.        , 0.47380449,\n",
       "        0.47380449, 0.        ]])"
      ]
     },
     "execution_count": 45,
     "metadata": {},
     "output_type": "execute_result"
    }
   ],
   "source": [
    "tfidf.fit_transform(df['text']).toarray()"
   ]
  },
  {
   "cell_type": "code",
   "execution_count": 46,
   "id": "e1e0bdef",
   "metadata": {},
   "outputs": [
    {
     "name": "stdout",
     "output_type": "stream",
     "text": [
      "[1.91629073 1.91629073 1.91629073 1.91629073 1.22314355 1.22314355\n",
      " 1.51082562]\n",
      "['are' 'comment' 'comments' 'good' 'hrithik' 'is' 'wise']\n"
     ]
    }
   ],
   "source": [
    "print(tfidf.idf_)\n",
    "print(tfidf.get_feature_names_out())"
   ]
  },
  {
   "cell_type": "code",
   "execution_count": null,
   "id": "3f1bdd9c",
   "metadata": {},
   "outputs": [],
   "source": []
  }
 ],
 "metadata": {
  "kernelspec": {
   "display_name": "Python 3 (ipykernel)",
   "language": "python",
   "name": "python3"
  },
  "language_info": {
   "codemirror_mode": {
    "name": "ipython",
    "version": 3
   },
   "file_extension": ".py",
   "mimetype": "text/x-python",
   "name": "python",
   "nbconvert_exporter": "python",
   "pygments_lexer": "ipython3",
   "version": "3.10.1"
  }
 },
 "nbformat": 4,
 "nbformat_minor": 5
}
