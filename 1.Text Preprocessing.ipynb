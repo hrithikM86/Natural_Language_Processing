{
 "cells": [
  {
   "cell_type": "code",
   "execution_count": 1,
   "metadata": {
    "_cell_guid": "b1076dfc-b9ad-4769-8c92-a6c4dae69d19",
    "_uuid": "8f2839f25d086af736a60e9eeb907d3b93b6e0e5",
    "execution": {
     "iopub.execute_input": "2023-06-24T08:10:02.019852Z",
     "iopub.status.busy": "2023-06-24T08:10:02.019468Z",
     "iopub.status.idle": "2023-06-24T08:10:02.053665Z",
     "shell.execute_reply": "2023-06-24T08:10:02.052924Z",
     "shell.execute_reply.started": "2023-06-24T08:10:02.019760Z"
    }
   },
   "outputs": [
    {
     "name": "stdout",
     "output_type": "stream",
     "text": [
      "/kaggle/input/imdb-dataset-of-50k-movie-reviews/IMDB Dataset.csv\n"
     ]
    }
   ],
   "source": [
    "# This Python 3 environment comes with many helpful analytics libraries installed\n",
    "# It is defined by the kaggle/python Docker image: https://github.com/kaggle/docker-python\n",
    "# For example, here's several helpful packages to load\n",
    "\n",
    "import numpy as np # linear algebra\n",
    "import pandas as pd # data processing, CSV file I/O (e.g. pd.read_csv)\n",
    "\n",
    "# Input data files are available in the read-only \"../input/\" directory\n",
    "# For example, running this (by clicking run or pressing Shift+Enter) will list all files under the input directory\n",
    "\n",
    "import os\n",
    "for dirname, _, filenames in os.walk('/kaggle/input'):\n",
    "    for filename in filenames:\n",
    "        print(os.path.join(dirname, filename))\n",
    "\n",
    "# You can write up to 20GB to the current directory (/kaggle/working/) that gets preserved as output when you create a version using \"Save & Run All\" \n",
    "# You can also write temporary files to /kaggle/temp/, but they won't be saved outside of the current session"
   ]
  },
  {
   "cell_type": "code",
   "execution_count": 2,
   "metadata": {
    "execution": {
     "iopub.execute_input": "2023-06-24T08:12:34.442696Z",
     "iopub.status.busy": "2023-06-24T08:12:34.441418Z",
     "iopub.status.idle": "2023-06-24T08:12:35.763735Z",
     "shell.execute_reply": "2023-06-24T08:12:35.763031Z",
     "shell.execute_reply.started": "2023-06-24T08:12:34.442630Z"
    }
   },
   "outputs": [],
   "source": [
    "df = pd.read_csv('/kaggle/input/imdb-dataset-of-50k-movie-reviews/IMDB Dataset.csv')"
   ]
  },
  {
   "cell_type": "code",
   "execution_count": 3,
   "metadata": {
    "execution": {
     "iopub.execute_input": "2023-06-24T08:12:39.156560Z",
     "iopub.status.busy": "2023-06-24T08:12:39.156281Z",
     "iopub.status.idle": "2023-06-24T08:12:39.165355Z",
     "shell.execute_reply": "2023-06-24T08:12:39.164310Z",
     "shell.execute_reply.started": "2023-06-24T08:12:39.156529Z"
    }
   },
   "outputs": [
    {
     "data": {
      "text/plain": [
       "(50000, 2)"
      ]
     },
     "execution_count": 3,
     "metadata": {},
     "output_type": "execute_result"
    }
   ],
   "source": [
    "df.shape"
   ]
  },
  {
   "cell_type": "code",
   "execution_count": 4,
   "metadata": {
    "execution": {
     "iopub.execute_input": "2023-06-24T08:12:53.917558Z",
     "iopub.status.busy": "2023-06-24T08:12:53.917320Z",
     "iopub.status.idle": "2023-06-24T08:12:53.934510Z",
     "shell.execute_reply": "2023-06-24T08:12:53.933670Z",
     "shell.execute_reply.started": "2023-06-24T08:12:53.917535Z"
    }
   },
   "outputs": [
    {
     "data": {
      "text/html": [
       "<div>\n",
       "<style scoped>\n",
       "    .dataframe tbody tr th:only-of-type {\n",
       "        vertical-align: middle;\n",
       "    }\n",
       "\n",
       "    .dataframe tbody tr th {\n",
       "        vertical-align: top;\n",
       "    }\n",
       "\n",
       "    .dataframe thead th {\n",
       "        text-align: right;\n",
       "    }\n",
       "</style>\n",
       "<table border=\"1\" class=\"dataframe\">\n",
       "  <thead>\n",
       "    <tr style=\"text-align: right;\">\n",
       "      <th></th>\n",
       "      <th>review</th>\n",
       "      <th>sentiment</th>\n",
       "    </tr>\n",
       "  </thead>\n",
       "  <tbody>\n",
       "    <tr>\n",
       "      <th>0</th>\n",
       "      <td>One of the other reviewers has mentioned that ...</td>\n",
       "      <td>positive</td>\n",
       "    </tr>\n",
       "    <tr>\n",
       "      <th>1</th>\n",
       "      <td>A wonderful little production. &lt;br /&gt;&lt;br /&gt;The...</td>\n",
       "      <td>positive</td>\n",
       "    </tr>\n",
       "    <tr>\n",
       "      <th>2</th>\n",
       "      <td>I thought this was a wonderful way to spend ti...</td>\n",
       "      <td>positive</td>\n",
       "    </tr>\n",
       "    <tr>\n",
       "      <th>3</th>\n",
       "      <td>Basically there's a family where a little boy ...</td>\n",
       "      <td>negative</td>\n",
       "    </tr>\n",
       "    <tr>\n",
       "      <th>4</th>\n",
       "      <td>Petter Mattei's \"Love in the Time of Money\" is...</td>\n",
       "      <td>positive</td>\n",
       "    </tr>\n",
       "  </tbody>\n",
       "</table>\n",
       "</div>"
      ],
      "text/plain": [
       "                                              review sentiment\n",
       "0  One of the other reviewers has mentioned that ...  positive\n",
       "1  A wonderful little production. <br /><br />The...  positive\n",
       "2  I thought this was a wonderful way to spend ti...  positive\n",
       "3  Basically there's a family where a little boy ...  negative\n",
       "4  Petter Mattei's \"Love in the Time of Money\" is...  positive"
      ]
     },
     "execution_count": 4,
     "metadata": {},
     "output_type": "execute_result"
    }
   ],
   "source": [
    "df.head()"
   ]
  },
  {
   "cell_type": "markdown",
   "metadata": {},
   "source": []
  },
  {
   "cell_type": "markdown",
   "metadata": {},
   "source": [
    "# **Lowercasing**\n"
   ]
  },
  {
   "cell_type": "code",
   "execution_count": 5,
   "metadata": {
    "execution": {
     "iopub.execute_input": "2023-06-24T08:13:48.557126Z",
     "iopub.status.busy": "2023-06-24T08:13:48.556826Z",
     "iopub.status.idle": "2023-06-24T08:13:48.567853Z",
     "shell.execute_reply": "2023-06-24T08:13:48.566849Z",
     "shell.execute_reply.started": "2023-06-24T08:13:48.557094Z"
    }
   },
   "outputs": [
    {
     "data": {
      "text/plain": [
       "\"basically there's a family where a little boy (jake) thinks there's a zombie in his closet & his parents are fighting all the time.<br /><br />this movie is slower than a soap opera... and suddenly, jake decides to become rambo and kill the zombie.<br /><br />ok, first of all when you're going to make a film you must decide if its a thriller or a drama! as a drama the movie is watchable. parents are divorcing & arguing like in real life. and then we have jake with his closet which totally ruins all the film! i expected to see a boogeyman similar movie, and instead i watched a drama with some meaningless thriller spots.<br /><br />3 out of 10 just for the well playing parents & descent dialogs. as for the shots with jake: just ignore them.\""
      ]
     },
     "execution_count": 5,
     "metadata": {},
     "output_type": "execute_result"
    }
   ],
   "source": [
    "df['review'][3].lower()"
   ]
  },
  {
   "cell_type": "code",
   "execution_count": 6,
   "metadata": {
    "execution": {
     "iopub.execute_input": "2023-06-24T08:15:48.726434Z",
     "iopub.status.busy": "2023-06-24T08:15:48.726155Z",
     "iopub.status.idle": "2023-06-24T08:15:48.849383Z",
     "shell.execute_reply": "2023-06-24T08:15:48.848671Z",
     "shell.execute_reply.started": "2023-06-24T08:15:48.726403Z"
    }
   },
   "outputs": [],
   "source": [
    "df['review'] = df['review'].str.lower()"
   ]
  },
  {
   "cell_type": "code",
   "execution_count": 7,
   "metadata": {
    "execution": {
     "iopub.execute_input": "2023-06-24T08:15:52.171347Z",
     "iopub.status.busy": "2023-06-24T08:15:52.171085Z",
     "iopub.status.idle": "2023-06-24T08:15:52.186146Z",
     "shell.execute_reply": "2023-06-24T08:15:52.185218Z",
     "shell.execute_reply.started": "2023-06-24T08:15:52.171312Z"
    }
   },
   "outputs": [
    {
     "data": {
      "text/html": [
       "<div>\n",
       "<style scoped>\n",
       "    .dataframe tbody tr th:only-of-type {\n",
       "        vertical-align: middle;\n",
       "    }\n",
       "\n",
       "    .dataframe tbody tr th {\n",
       "        vertical-align: top;\n",
       "    }\n",
       "\n",
       "    .dataframe thead th {\n",
       "        text-align: right;\n",
       "    }\n",
       "</style>\n",
       "<table border=\"1\" class=\"dataframe\">\n",
       "  <thead>\n",
       "    <tr style=\"text-align: right;\">\n",
       "      <th></th>\n",
       "      <th>review</th>\n",
       "      <th>sentiment</th>\n",
       "    </tr>\n",
       "  </thead>\n",
       "  <tbody>\n",
       "    <tr>\n",
       "      <th>0</th>\n",
       "      <td>one of the other reviewers has mentioned that ...</td>\n",
       "      <td>positive</td>\n",
       "    </tr>\n",
       "    <tr>\n",
       "      <th>1</th>\n",
       "      <td>a wonderful little production. &lt;br /&gt;&lt;br /&gt;the...</td>\n",
       "      <td>positive</td>\n",
       "    </tr>\n",
       "    <tr>\n",
       "      <th>2</th>\n",
       "      <td>i thought this was a wonderful way to spend ti...</td>\n",
       "      <td>positive</td>\n",
       "    </tr>\n",
       "    <tr>\n",
       "      <th>3</th>\n",
       "      <td>basically there's a family where a little boy ...</td>\n",
       "      <td>negative</td>\n",
       "    </tr>\n",
       "    <tr>\n",
       "      <th>4</th>\n",
       "      <td>petter mattei's \"love in the time of money\" is...</td>\n",
       "      <td>positive</td>\n",
       "    </tr>\n",
       "    <tr>\n",
       "      <th>...</th>\n",
       "      <td>...</td>\n",
       "      <td>...</td>\n",
       "    </tr>\n",
       "    <tr>\n",
       "      <th>49995</th>\n",
       "      <td>i thought this movie did a down right good job...</td>\n",
       "      <td>positive</td>\n",
       "    </tr>\n",
       "    <tr>\n",
       "      <th>49996</th>\n",
       "      <td>bad plot, bad dialogue, bad acting, idiotic di...</td>\n",
       "      <td>negative</td>\n",
       "    </tr>\n",
       "    <tr>\n",
       "      <th>49997</th>\n",
       "      <td>i am a catholic taught in parochial elementary...</td>\n",
       "      <td>negative</td>\n",
       "    </tr>\n",
       "    <tr>\n",
       "      <th>49998</th>\n",
       "      <td>i'm going to have to disagree with the previou...</td>\n",
       "      <td>negative</td>\n",
       "    </tr>\n",
       "    <tr>\n",
       "      <th>49999</th>\n",
       "      <td>no one expects the star trek movies to be high...</td>\n",
       "      <td>negative</td>\n",
       "    </tr>\n",
       "  </tbody>\n",
       "</table>\n",
       "<p>50000 rows × 2 columns</p>\n",
       "</div>"
      ],
      "text/plain": [
       "                                                  review sentiment\n",
       "0      one of the other reviewers has mentioned that ...  positive\n",
       "1      a wonderful little production. <br /><br />the...  positive\n",
       "2      i thought this was a wonderful way to spend ti...  positive\n",
       "3      basically there's a family where a little boy ...  negative\n",
       "4      petter mattei's \"love in the time of money\" is...  positive\n",
       "...                                                  ...       ...\n",
       "49995  i thought this movie did a down right good job...  positive\n",
       "49996  bad plot, bad dialogue, bad acting, idiotic di...  negative\n",
       "49997  i am a catholic taught in parochial elementary...  negative\n",
       "49998  i'm going to have to disagree with the previou...  negative\n",
       "49999  no one expects the star trek movies to be high...  negative\n",
       "\n",
       "[50000 rows x 2 columns]"
      ]
     },
     "execution_count": 7,
     "metadata": {},
     "output_type": "execute_result"
    }
   ],
   "source": [
    "df"
   ]
  },
  {
   "cell_type": "markdown",
   "metadata": {},
   "source": [
    "# **Removing HTML tags**"
   ]
  },
  {
   "cell_type": "code",
   "execution_count": 10,
   "metadata": {
    "execution": {
     "iopub.execute_input": "2023-06-24T08:22:59.021575Z",
     "iopub.status.busy": "2023-06-24T08:22:59.021357Z",
     "iopub.status.idle": "2023-06-24T08:22:59.025793Z",
     "shell.execute_reply": "2023-06-24T08:22:59.024873Z",
     "shell.execute_reply.started": "2023-06-24T08:22:59.021552Z"
    }
   },
   "outputs": [],
   "source": [
    "import re                                      #re= Regular expressions\n",
    "def remove_html_tags(text):\n",
    "    pattern = re.compile('<.*?>')              #regular expression to find HTML tags = <.*?>\n",
    "    return pattern.sub(r'', text)"
   ]
  },
  {
   "cell_type": "code",
   "execution_count": 12,
   "metadata": {
    "execution": {
     "iopub.execute_input": "2023-06-24T08:23:04.847220Z",
     "iopub.status.busy": "2023-06-24T08:23:04.846978Z",
     "iopub.status.idle": "2023-06-24T08:23:04.852072Z",
     "shell.execute_reply": "2023-06-24T08:23:04.851106Z",
     "shell.execute_reply.started": "2023-06-24T08:23:04.847196Z"
    }
   },
   "outputs": [],
   "source": [
    "text = \"<html><body><p> Movie 1</p><p> Actor - Aamir Khan</p><p> Click here to <a href='http://google.com'>download</a></p></body></html>\""
   ]
  },
  {
   "cell_type": "code",
   "execution_count": 13,
   "metadata": {
    "execution": {
     "iopub.execute_input": "2023-06-24T08:23:09.556326Z",
     "iopub.status.busy": "2023-06-24T08:23:09.556084Z",
     "iopub.status.idle": "2023-06-24T08:23:09.562318Z",
     "shell.execute_reply": "2023-06-24T08:23:09.561437Z",
     "shell.execute_reply.started": "2023-06-24T08:23:09.556299Z"
    }
   },
   "outputs": [
    {
     "data": {
      "text/plain": [
       "' Movie 1 Actor - Aamir Khan Click here to download'"
      ]
     },
     "execution_count": 13,
     "metadata": {},
     "output_type": "execute_result"
    }
   ],
   "source": [
    "remove_html_tags(text)"
   ]
  },
  {
   "cell_type": "code",
   "execution_count": 17,
   "metadata": {
    "execution": {
     "iopub.execute_input": "2023-06-24T08:32:21.317840Z",
     "iopub.status.busy": "2023-06-24T08:32:21.317371Z",
     "iopub.status.idle": "2023-06-24T08:32:21.402597Z",
     "shell.execute_reply": "2023-06-24T08:32:21.401322Z",
     "shell.execute_reply.started": "2023-06-24T08:32:21.317797Z"
    }
   },
   "outputs": [],
   "source": [
    "df['review'] = df['review'].apply(remove_html_tags)"
   ]
  },
  {
   "cell_type": "code",
   "execution_count": 18,
   "metadata": {
    "execution": {
     "iopub.execute_input": "2023-06-24T08:32:24.947547Z",
     "iopub.status.busy": "2023-06-24T08:32:24.947293Z",
     "iopub.status.idle": "2023-06-24T08:32:24.953652Z",
     "shell.execute_reply": "2023-06-24T08:32:24.952615Z",
     "shell.execute_reply.started": "2023-06-24T08:32:24.947512Z"
    }
   },
   "outputs": [
    {
     "data": {
      "text/plain": [
       "'probably my all-time favorite movie, a story of selflessness, sacrifice and dedication to a noble cause, but it\\'s not preachy or boring. it just never gets old, despite my having seen it some 15 or more times in the last 25 years. paul lukas\\' performance brings tears to my eyes, and bette davis, in one of her very few truly sympathetic roles, is a delight. the kids are, as grandma says, more like \"dressed-up midgets\" than children, but that only makes them more fun to watch. and the mother\\'s slow awakening to what\\'s happening in the world and under her own roof is believable and startling. if i had a dozen thumbs, they\\'d all be \"up\" for this movie.'"
      ]
     },
     "execution_count": 18,
     "metadata": {},
     "output_type": "execute_result"
    }
   ],
   "source": [
    "df['review'][5]"
   ]
  },
  {
   "cell_type": "markdown",
   "metadata": {},
   "source": [
    "# **Removing URLs**"
   ]
  },
  {
   "cell_type": "code",
   "execution_count": 19,
   "metadata": {
    "execution": {
     "iopub.execute_input": "2023-06-24T08:55:28.695914Z",
     "iopub.status.busy": "2023-06-24T08:55:28.695652Z",
     "iopub.status.idle": "2023-06-24T08:55:28.699882Z",
     "shell.execute_reply": "2023-06-24T08:55:28.699140Z",
     "shell.execute_reply.started": "2023-06-24T08:55:28.695885Z"
    }
   },
   "outputs": [],
   "source": [
    "def remove_url(text):\n",
    "    pattern = re.compile(r'https?://\\S+|www\\.\\S+')\n",
    "    return pattern.sub(r'', text)"
   ]
  },
  {
   "cell_type": "code",
   "execution_count": 20,
   "metadata": {
    "execution": {
     "iopub.execute_input": "2023-06-24T08:55:38.865098Z",
     "iopub.status.busy": "2023-06-24T08:55:38.864761Z",
     "iopub.status.idle": "2023-06-24T08:55:38.869640Z",
     "shell.execute_reply": "2023-06-24T08:55:38.868827Z",
     "shell.execute_reply.started": "2023-06-24T08:55:38.865064Z"
    }
   },
   "outputs": [],
   "source": [
    "text1 = 'Check out my notebook https://www.kaggle.com/campusx/notebook8223fc1abb'\n",
    "text2 = 'Check out my notebook http://www.kaggle.com/campusx/notebook8223fc1abb'\n",
    "text3 = 'Google search here www.google.com'\n",
    "text4 = 'For notebook click https://www.kaggle.com/campusx/notebook8223fc1abb to search check www.google.com'"
   ]
  },
  {
   "cell_type": "code",
   "execution_count": 21,
   "metadata": {
    "execution": {
     "iopub.execute_input": "2023-06-24T08:55:55.644979Z",
     "iopub.status.busy": "2023-06-24T08:55:55.644697Z",
     "iopub.status.idle": "2023-06-24T08:55:55.651721Z",
     "shell.execute_reply": "2023-06-24T08:55:55.650636Z",
     "shell.execute_reply.started": "2023-06-24T08:55:55.644943Z"
    }
   },
   "outputs": [
    {
     "data": {
      "text/plain": [
       "'For notebook click  to search check '"
      ]
     },
     "execution_count": 21,
     "metadata": {},
     "output_type": "execute_result"
    }
   ],
   "source": [
    "remove_url(text4)"
   ]
  },
  {
   "cell_type": "markdown",
   "metadata": {},
   "source": [
    "# **Removing Punctuation**"
   ]
  },
  {
   "cell_type": "code",
   "execution_count": 23,
   "metadata": {
    "execution": {
     "iopub.execute_input": "2023-06-24T08:58:30.676985Z",
     "iopub.status.busy": "2023-06-24T08:58:30.676702Z",
     "iopub.status.idle": "2023-06-24T08:58:30.683592Z",
     "shell.execute_reply": "2023-06-24T08:58:30.682466Z",
     "shell.execute_reply.started": "2023-06-24T08:58:30.676950Z"
    }
   },
   "outputs": [
    {
     "data": {
      "text/plain": [
       "'!\"#$%&\\'()*+,-./:;<=>?@[\\\\]^_`{|}~'"
      ]
     },
     "execution_count": 23,
     "metadata": {},
     "output_type": "execute_result"
    }
   ],
   "source": [
    "import string,time\n",
    "string.punctuation"
   ]
  },
  {
   "cell_type": "code",
   "execution_count": 24,
   "metadata": {
    "execution": {
     "iopub.execute_input": "2023-06-24T08:58:41.038546Z",
     "iopub.status.busy": "2023-06-24T08:58:41.038317Z",
     "iopub.status.idle": "2023-06-24T08:58:41.044028Z",
     "shell.execute_reply": "2023-06-24T08:58:41.043243Z",
     "shell.execute_reply.started": "2023-06-24T08:58:41.038520Z"
    }
   },
   "outputs": [],
   "source": [
    "exclude = string.punctuation"
   ]
  },
  {
   "cell_type": "code",
   "execution_count": 25,
   "metadata": {
    "execution": {
     "iopub.execute_input": "2023-06-24T08:58:54.838628Z",
     "iopub.status.busy": "2023-06-24T08:58:54.838181Z",
     "iopub.status.idle": "2023-06-24T08:58:54.843241Z",
     "shell.execute_reply": "2023-06-24T08:58:54.842079Z",
     "shell.execute_reply.started": "2023-06-24T08:58:54.838581Z"
    }
   },
   "outputs": [],
   "source": [
    "def remove_punc(text):\n",
    "    for char in exclude:\n",
    "        text = text.replace(char,'')\n",
    "    return text\n",
    "        "
   ]
  },
  {
   "cell_type": "code",
   "execution_count": 26,
   "metadata": {
    "execution": {
     "iopub.execute_input": "2023-06-24T08:58:57.837816Z",
     "iopub.status.busy": "2023-06-24T08:58:57.836988Z",
     "iopub.status.idle": "2023-06-24T08:58:57.842252Z",
     "shell.execute_reply": "2023-06-24T08:58:57.841386Z",
     "shell.execute_reply.started": "2023-06-24T08:58:57.837778Z"
    }
   },
   "outputs": [],
   "source": [
    "text = 'string. With. Punctuation?'"
   ]
  },
  {
   "cell_type": "code",
   "execution_count": 27,
   "metadata": {
    "execution": {
     "iopub.execute_input": "2023-06-24T08:58:59.156927Z",
     "iopub.status.busy": "2023-06-24T08:58:59.156442Z",
     "iopub.status.idle": "2023-06-24T08:58:59.162513Z",
     "shell.execute_reply": "2023-06-24T08:58:59.161697Z",
     "shell.execute_reply.started": "2023-06-24T08:58:59.156897Z"
    }
   },
   "outputs": [
    {
     "name": "stdout",
     "output_type": "stream",
     "text": [
      "string With Punctuation\n",
      "46.193599700927734\n"
     ]
    }
   ],
   "source": [
    "start = time.time()\n",
    "print(remove_punc(text))\n",
    "time1 = time.time() - start\n",
    "print(time1*50000)"
   ]
  },
  {
   "cell_type": "code",
   "execution_count": 28,
   "metadata": {
    "execution": {
     "iopub.execute_input": "2023-06-24T08:59:42.737489Z",
     "iopub.status.busy": "2023-06-24T08:59:42.737229Z",
     "iopub.status.idle": "2023-06-24T08:59:42.741245Z",
     "shell.execute_reply": "2023-06-24T08:59:42.740644Z",
     "shell.execute_reply.started": "2023-06-24T08:59:42.737457Z"
    }
   },
   "outputs": [],
   "source": [
    "def remove_punc1(text):\n",
    "    return text.translate(str.maketrans('', '', exclude))"
   ]
  },
  {
   "cell_type": "code",
   "execution_count": 29,
   "metadata": {
    "execution": {
     "iopub.execute_input": "2023-06-24T09:00:01.607494Z",
     "iopub.status.busy": "2023-06-24T09:00:01.606509Z",
     "iopub.status.idle": "2023-06-24T09:00:01.614557Z",
     "shell.execute_reply": "2023-06-24T09:00:01.612757Z",
     "shell.execute_reply.started": "2023-06-24T09:00:01.607456Z"
    }
   },
   "outputs": [
    {
     "name": "stdout",
     "output_type": "stream",
     "text": [
      "4.553794860839844\n"
     ]
    }
   ],
   "source": [
    "start = time.time()\n",
    "remove_punc1(text)\n",
    "time2 = time.time() - start\n",
    "print(time2*50000)"
   ]
  },
  {
   "cell_type": "code",
   "execution_count": 30,
   "metadata": {
    "execution": {
     "iopub.execute_input": "2023-06-24T09:00:03.737450Z",
     "iopub.status.busy": "2023-06-24T09:00:03.737046Z",
     "iopub.status.idle": "2023-06-24T09:00:03.742306Z",
     "shell.execute_reply": "2023-06-24T09:00:03.741091Z",
     "shell.execute_reply.started": "2023-06-24T09:00:03.737406Z"
    }
   },
   "outputs": [
    {
     "data": {
      "text/plain": [
       "10.143979057591624"
      ]
     },
     "execution_count": 30,
     "metadata": {},
     "output_type": "execute_result"
    }
   ],
   "source": [
    "time1/time2"
   ]
  },
  {
   "cell_type": "code",
   "execution_count": 31,
   "metadata": {
    "execution": {
     "iopub.execute_input": "2023-06-24T09:00:10.407563Z",
     "iopub.status.busy": "2023-06-24T09:00:10.407308Z",
     "iopub.status.idle": "2023-06-24T09:00:10.412411Z",
     "shell.execute_reply": "2023-06-24T09:00:10.411958Z",
     "shell.execute_reply.started": "2023-06-24T09:00:10.407535Z"
    }
   },
   "outputs": [
    {
     "data": {
      "text/plain": [
       "'probably my all-time favorite movie, a story of selflessness, sacrifice and dedication to a noble cause, but it\\'s not preachy or boring. it just never gets old, despite my having seen it some 15 or more times in the last 25 years. paul lukas\\' performance brings tears to my eyes, and bette davis, in one of her very few truly sympathetic roles, is a delight. the kids are, as grandma says, more like \"dressed-up midgets\" than children, but that only makes them more fun to watch. and the mother\\'s slow awakening to what\\'s happening in the world and under her own roof is believable and startling. if i had a dozen thumbs, they\\'d all be \"up\" for this movie.'"
      ]
     },
     "execution_count": 31,
     "metadata": {},
     "output_type": "execute_result"
    }
   ],
   "source": [
    "df['review'][5]"
   ]
  },
  {
   "cell_type": "code",
   "execution_count": 32,
   "metadata": {
    "execution": {
     "iopub.execute_input": "2023-06-24T09:00:44.068365Z",
     "iopub.status.busy": "2023-06-24T09:00:44.067923Z",
     "iopub.status.idle": "2023-06-24T09:00:44.074307Z",
     "shell.execute_reply": "2023-06-24T09:00:44.073457Z",
     "shell.execute_reply.started": "2023-06-24T09:00:44.068323Z"
    }
   },
   "outputs": [
    {
     "data": {
      "text/plain": [
       "'probably my alltime favorite movie a story of selflessness sacrifice and dedication to a noble cause but its not preachy or boring it just never gets old despite my having seen it some 15 or more times in the last 25 years paul lukas performance brings tears to my eyes and bette davis in one of her very few truly sympathetic roles is a delight the kids are as grandma says more like dressedup midgets than children but that only makes them more fun to watch and the mothers slow awakening to whats happening in the world and under her own roof is believable and startling if i had a dozen thumbs theyd all be up for this movie'"
      ]
     },
     "execution_count": 32,
     "metadata": {},
     "output_type": "execute_result"
    }
   ],
   "source": [
    "remove_punc1(df['review'][5])"
   ]
  },
  {
   "cell_type": "markdown",
   "metadata": {},
   "source": [
    "# **Chat word treatment**"
   ]
  },
  {
   "cell_type": "code",
   "execution_count": 36,
   "metadata": {
    "execution": {
     "iopub.execute_input": "2023-06-24T09:13:20.000286Z",
     "iopub.status.busy": "2023-06-24T09:13:19.999991Z",
     "iopub.status.idle": "2023-06-24T09:13:20.005714Z",
     "shell.execute_reply": "2023-06-24T09:13:20.004491Z",
     "shell.execute_reply.started": "2023-06-24T09:13:20.000251Z"
    }
   },
   "outputs": [],
   "source": [
    "chat_words = {\"IMHO\":'In my humble opinion',\"FYI\":'For your informaton'}      \n",
    "#Basically this will be a dictionary containing shotcut words and there full forms\n",
    "# eg- gn = good night"
   ]
  },
  {
   "cell_type": "code",
   "execution_count": 37,
   "metadata": {
    "execution": {
     "iopub.execute_input": "2023-06-24T09:13:23.030553Z",
     "iopub.status.busy": "2023-06-24T09:13:23.029688Z",
     "iopub.status.idle": "2023-06-24T09:13:23.035901Z",
     "shell.execute_reply": "2023-06-24T09:13:23.034866Z",
     "shell.execute_reply.started": "2023-06-24T09:13:23.030502Z"
    }
   },
   "outputs": [],
   "source": [
    "def chat_conversion(text):\n",
    "    new_text = []\n",
    "    for w in text.split():\n",
    "        if w.upper() in chat_words:\n",
    "            new_text.append(chat_words[w.upper()])\n",
    "        else:\n",
    "            new_text.append(w)\n",
    "    return \" \".join(new_text)"
   ]
  },
  {
   "cell_type": "code",
   "execution_count": 38,
   "metadata": {
    "execution": {
     "iopub.execute_input": "2023-06-24T09:13:25.180183Z",
     "iopub.status.busy": "2023-06-24T09:13:25.179904Z",
     "iopub.status.idle": "2023-06-24T09:13:25.190409Z",
     "shell.execute_reply": "2023-06-24T09:13:25.188825Z",
     "shell.execute_reply.started": "2023-06-24T09:13:25.180154Z"
    }
   },
   "outputs": [
    {
     "data": {
      "text/plain": [
       "'In my humble opinion he is the best'"
      ]
     },
     "execution_count": 38,
     "metadata": {},
     "output_type": "execute_result"
    }
   ],
   "source": [
    "chat_conversion('IMHO he is the best')"
   ]
  },
  {
   "cell_type": "code",
   "execution_count": 39,
   "metadata": {
    "execution": {
     "iopub.execute_input": "2023-06-24T09:13:28.040500Z",
     "iopub.status.busy": "2023-06-24T09:13:28.040207Z",
     "iopub.status.idle": "2023-06-24T09:13:28.045189Z",
     "shell.execute_reply": "2023-06-24T09:13:28.044565Z",
     "shell.execute_reply.started": "2023-06-24T09:13:28.040464Z"
    }
   },
   "outputs": [
    {
     "data": {
      "text/plain": [
       "'For your informaton delhi is the capital of india'"
      ]
     },
     "execution_count": 39,
     "metadata": {},
     "output_type": "execute_result"
    }
   ],
   "source": [
    "chat_conversion('FYI delhi is the capital of india')"
   ]
  },
  {
   "cell_type": "markdown",
   "metadata": {},
   "source": [
    "# **Spelling Correction**"
   ]
  },
  {
   "cell_type": "code",
   "execution_count": 41,
   "metadata": {
    "execution": {
     "iopub.execute_input": "2023-06-24T09:17:56.780486Z",
     "iopub.status.busy": "2023-06-24T09:17:56.779976Z",
     "iopub.status.idle": "2023-06-24T09:17:56.784830Z",
     "shell.execute_reply": "2023-06-24T09:17:56.783790Z",
     "shell.execute_reply.started": "2023-06-24T09:17:56.780450Z"
    }
   },
   "outputs": [],
   "source": [
    "from textblob import TextBlob              \n",
    "#TextBlob is a Python (2 and 3) library for processing textual data. \n",
    "#It provides a simple API for diving into common natural language processing (NLP) tasks such as \n",
    "#part-of-speech tagging, noun phrase extraction, sentiment analysis, \n",
    "#classification, translation, and more."
   ]
  },
  {
   "cell_type": "code",
   "execution_count": 42,
   "metadata": {
    "execution": {
     "iopub.execute_input": "2023-06-24T09:18:02.230769Z",
     "iopub.status.busy": "2023-06-24T09:18:02.230229Z",
     "iopub.status.idle": "2023-06-24T09:18:02.295182Z",
     "shell.execute_reply": "2023-06-24T09:18:02.294458Z",
     "shell.execute_reply.started": "2023-06-24T09:18:02.230722Z"
    }
   },
   "outputs": [
    {
     "data": {
      "text/plain": [
       "'certain conditions during several generations are modified in the same manner.'"
      ]
     },
     "execution_count": 42,
     "metadata": {},
     "output_type": "execute_result"
    }
   ],
   "source": [
    "incorrect_text = 'ceertain conditionas duriing seveal ggenerations aree moodified in the saame maner.'\n",
    "\n",
    "textBlb = TextBlob(incorrect_text)\n",
    "\n",
    "textBlb.correct().string"
   ]
  },
  {
   "cell_type": "markdown",
   "metadata": {},
   "source": [
    "# **Removing stopwords**"
   ]
  },
  {
   "cell_type": "code",
   "execution_count": 43,
   "metadata": {
    "execution": {
     "iopub.execute_input": "2023-06-24T09:19:57.390744Z",
     "iopub.status.busy": "2023-06-24T09:19:57.390258Z",
     "iopub.status.idle": "2023-06-24T09:19:57.395285Z",
     "shell.execute_reply": "2023-06-24T09:19:57.394035Z",
     "shell.execute_reply.started": "2023-06-24T09:19:57.390710Z"
    }
   },
   "outputs": [],
   "source": [
    "from nltk.corpus import stopwords"
   ]
  },
  {
   "cell_type": "code",
   "execution_count": 44,
   "metadata": {
    "execution": {
     "iopub.execute_input": "2023-06-24T09:19:59.149711Z",
     "iopub.status.busy": "2023-06-24T09:19:59.149427Z",
     "iopub.status.idle": "2023-06-24T09:19:59.166754Z",
     "shell.execute_reply": "2023-06-24T09:19:59.165746Z",
     "shell.execute_reply.started": "2023-06-24T09:19:59.149679Z"
    }
   },
   "outputs": [
    {
     "data": {
      "text/plain": [
       "['i',\n",
       " 'me',\n",
       " 'my',\n",
       " 'myself',\n",
       " 'we',\n",
       " 'our',\n",
       " 'ours',\n",
       " 'ourselves',\n",
       " 'you',\n",
       " \"you're\",\n",
       " \"you've\",\n",
       " \"you'll\",\n",
       " \"you'd\",\n",
       " 'your',\n",
       " 'yours',\n",
       " 'yourself',\n",
       " 'yourselves',\n",
       " 'he',\n",
       " 'him',\n",
       " 'his',\n",
       " 'himself',\n",
       " 'she',\n",
       " \"she's\",\n",
       " 'her',\n",
       " 'hers',\n",
       " 'herself',\n",
       " 'it',\n",
       " \"it's\",\n",
       " 'its',\n",
       " 'itself',\n",
       " 'they',\n",
       " 'them',\n",
       " 'their',\n",
       " 'theirs',\n",
       " 'themselves',\n",
       " 'what',\n",
       " 'which',\n",
       " 'who',\n",
       " 'whom',\n",
       " 'this',\n",
       " 'that',\n",
       " \"that'll\",\n",
       " 'these',\n",
       " 'those',\n",
       " 'am',\n",
       " 'is',\n",
       " 'are',\n",
       " 'was',\n",
       " 'were',\n",
       " 'be',\n",
       " 'been',\n",
       " 'being',\n",
       " 'have',\n",
       " 'has',\n",
       " 'had',\n",
       " 'having',\n",
       " 'do',\n",
       " 'does',\n",
       " 'did',\n",
       " 'doing',\n",
       " 'a',\n",
       " 'an',\n",
       " 'the',\n",
       " 'and',\n",
       " 'but',\n",
       " 'if',\n",
       " 'or',\n",
       " 'because',\n",
       " 'as',\n",
       " 'until',\n",
       " 'while',\n",
       " 'of',\n",
       " 'at',\n",
       " 'by',\n",
       " 'for',\n",
       " 'with',\n",
       " 'about',\n",
       " 'against',\n",
       " 'between',\n",
       " 'into',\n",
       " 'through',\n",
       " 'during',\n",
       " 'before',\n",
       " 'after',\n",
       " 'above',\n",
       " 'below',\n",
       " 'to',\n",
       " 'from',\n",
       " 'up',\n",
       " 'down',\n",
       " 'in',\n",
       " 'out',\n",
       " 'on',\n",
       " 'off',\n",
       " 'over',\n",
       " 'under',\n",
       " 'again',\n",
       " 'further',\n",
       " 'then',\n",
       " 'once',\n",
       " 'here',\n",
       " 'there',\n",
       " 'when',\n",
       " 'where',\n",
       " 'why',\n",
       " 'how',\n",
       " 'all',\n",
       " 'any',\n",
       " 'both',\n",
       " 'each',\n",
       " 'few',\n",
       " 'more',\n",
       " 'most',\n",
       " 'other',\n",
       " 'some',\n",
       " 'such',\n",
       " 'no',\n",
       " 'nor',\n",
       " 'not',\n",
       " 'only',\n",
       " 'own',\n",
       " 'same',\n",
       " 'so',\n",
       " 'than',\n",
       " 'too',\n",
       " 'very',\n",
       " 's',\n",
       " 't',\n",
       " 'can',\n",
       " 'will',\n",
       " 'just',\n",
       " 'don',\n",
       " \"don't\",\n",
       " 'should',\n",
       " \"should've\",\n",
       " 'now',\n",
       " 'd',\n",
       " 'll',\n",
       " 'm',\n",
       " 'o',\n",
       " 're',\n",
       " 've',\n",
       " 'y',\n",
       " 'ain',\n",
       " 'aren',\n",
       " \"aren't\",\n",
       " 'couldn',\n",
       " \"couldn't\",\n",
       " 'didn',\n",
       " \"didn't\",\n",
       " 'doesn',\n",
       " \"doesn't\",\n",
       " 'hadn',\n",
       " \"hadn't\",\n",
       " 'hasn',\n",
       " \"hasn't\",\n",
       " 'haven',\n",
       " \"haven't\",\n",
       " 'isn',\n",
       " \"isn't\",\n",
       " 'ma',\n",
       " 'mightn',\n",
       " \"mightn't\",\n",
       " 'mustn',\n",
       " \"mustn't\",\n",
       " 'needn',\n",
       " \"needn't\",\n",
       " 'shan',\n",
       " \"shan't\",\n",
       " 'shouldn',\n",
       " \"shouldn't\",\n",
       " 'wasn',\n",
       " \"wasn't\",\n",
       " 'weren',\n",
       " \"weren't\",\n",
       " 'won',\n",
       " \"won't\",\n",
       " 'wouldn',\n",
       " \"wouldn't\"]"
      ]
     },
     "execution_count": 44,
     "metadata": {},
     "output_type": "execute_result"
    }
   ],
   "source": [
    "stopwords.words('english')"
   ]
  },
  {
   "cell_type": "code",
   "execution_count": 45,
   "metadata": {
    "execution": {
     "iopub.execute_input": "2023-06-24T09:20:42.155749Z",
     "iopub.status.busy": "2023-06-24T09:20:42.155496Z",
     "iopub.status.idle": "2023-06-24T09:20:42.162192Z",
     "shell.execute_reply": "2023-06-24T09:20:42.161101Z",
     "shell.execute_reply.started": "2023-06-24T09:20:42.155724Z"
    }
   },
   "outputs": [],
   "source": [
    "def remove_stopwords(text):\n",
    "    new_text = []\n",
    "    \n",
    "    for word in text.split():\n",
    "        if word in stopwords.words('english'):\n",
    "            new_text.append('')\n",
    "        else:\n",
    "            new_text.append(word)\n",
    "    x = new_text[:]\n",
    "    new_text.clear()\n",
    "    return \" \".join(x)"
   ]
  },
  {
   "cell_type": "code",
   "execution_count": 47,
   "metadata": {
    "execution": {
     "iopub.execute_input": "2023-06-24T09:21:10.135263Z",
     "iopub.status.busy": "2023-06-24T09:21:10.134201Z",
     "iopub.status.idle": "2023-06-24T09:21:10.149046Z",
     "shell.execute_reply": "2023-06-24T09:21:10.147828Z",
     "shell.execute_reply.started": "2023-06-24T09:21:10.135212Z"
    }
   },
   "outputs": [
    {
     "data": {
      "text/plain": [
       "'probably  all-time favorite movie,  story  selflessness, sacrifice  dedication   noble cause,    preachy  boring.   never gets old, despite   seen   15   times'"
      ]
     },
     "execution_count": 47,
     "metadata": {},
     "output_type": "execute_result"
    }
   ],
   "source": [
    "remove_stopwords('probably my all-time favorite movie, a story of selflessness, sacrifice and dedication to a noble cause, but it\\'s not preachy or boring. it just never gets old, despite my having seen it some 15 or more times')"
   ]
  },
  {
   "cell_type": "code",
   "execution_count": 48,
   "metadata": {
    "execution": {
     "iopub.execute_input": "2023-06-24T09:21:11.815165Z",
     "iopub.status.busy": "2023-06-24T09:21:11.814658Z",
     "iopub.status.idle": "2023-06-24T09:21:11.826728Z",
     "shell.execute_reply": "2023-06-24T09:21:11.825618Z",
     "shell.execute_reply.started": "2023-06-24T09:21:11.815126Z"
    }
   },
   "outputs": [
    {
     "data": {
      "text/html": [
       "<div>\n",
       "<style scoped>\n",
       "    .dataframe tbody tr th:only-of-type {\n",
       "        vertical-align: middle;\n",
       "    }\n",
       "\n",
       "    .dataframe tbody tr th {\n",
       "        vertical-align: top;\n",
       "    }\n",
       "\n",
       "    .dataframe thead th {\n",
       "        text-align: right;\n",
       "    }\n",
       "</style>\n",
       "<table border=\"1\" class=\"dataframe\">\n",
       "  <thead>\n",
       "    <tr style=\"text-align: right;\">\n",
       "      <th></th>\n",
       "      <th>review</th>\n",
       "      <th>sentiment</th>\n",
       "    </tr>\n",
       "  </thead>\n",
       "  <tbody>\n",
       "    <tr>\n",
       "      <th>0</th>\n",
       "      <td>one of the other reviewers has mentioned that ...</td>\n",
       "      <td>positive</td>\n",
       "    </tr>\n",
       "    <tr>\n",
       "      <th>1</th>\n",
       "      <td>a wonderful little production. the filming tec...</td>\n",
       "      <td>positive</td>\n",
       "    </tr>\n",
       "    <tr>\n",
       "      <th>2</th>\n",
       "      <td>i thought this was a wonderful way to spend ti...</td>\n",
       "      <td>positive</td>\n",
       "    </tr>\n",
       "    <tr>\n",
       "      <th>3</th>\n",
       "      <td>basically there's a family where a little boy ...</td>\n",
       "      <td>negative</td>\n",
       "    </tr>\n",
       "    <tr>\n",
       "      <th>4</th>\n",
       "      <td>petter mattei's \"love in the time of money\" is...</td>\n",
       "      <td>positive</td>\n",
       "    </tr>\n",
       "  </tbody>\n",
       "</table>\n",
       "</div>"
      ],
      "text/plain": [
       "                                              review sentiment\n",
       "0  one of the other reviewers has mentioned that ...  positive\n",
       "1  a wonderful little production. the filming tec...  positive\n",
       "2  i thought this was a wonderful way to spend ti...  positive\n",
       "3  basically there's a family where a little boy ...  negative\n",
       "4  petter mattei's \"love in the time of money\" is...  positive"
      ]
     },
     "execution_count": 48,
     "metadata": {},
     "output_type": "execute_result"
    }
   ],
   "source": [
    "df.head()"
   ]
  },
  {
   "cell_type": "markdown",
   "metadata": {
    "execution": {
     "iopub.execute_input": "2023-06-24T09:21:15.155176Z",
     "iopub.status.busy": "2023-06-24T09:21:15.154738Z"
    }
   },
   "source": [
    "df['review'].apply(remove_stopwords)                        #will take a lot of time"
   ]
  },
  {
   "cell_type": "markdown",
   "metadata": {},
   "source": [
    "# **Removing Emoji**"
   ]
  },
  {
   "cell_type": "code",
   "execution_count": 52,
   "metadata": {
    "execution": {
     "iopub.execute_input": "2023-06-24T09:25:58.252449Z",
     "iopub.status.busy": "2023-06-24T09:25:58.251592Z",
     "iopub.status.idle": "2023-06-24T09:25:58.257347Z",
     "shell.execute_reply": "2023-06-24T09:25:58.256904Z",
     "shell.execute_reply.started": "2023-06-24T09:25:58.252413Z"
    }
   },
   "outputs": [],
   "source": [
    "import re\n",
    "def remove_emoji(text):\n",
    "    emoji_pattern = re.compile(\"[\"\n",
    "                           u\"\\U0001F600-\\U0001F64F\"  # emoticons\n",
    "                           u\"\\U0001F300-\\U0001F5FF\"  # symbols & pictographs\n",
    "                           u\"\\U0001F680-\\U0001F6FF\"  # transport & map symbols\n",
    "                           u\"\\U0001F1E0-\\U0001F1FF\"  # flags (iOS)\n",
    "                           u\"\\U00002702-\\U000027B0\"\n",
    "                           u\"\\U000024C2-\\U0001F251\"\n",
    "                           \"]+\", flags=re.UNICODE)\n",
    "    return emoji_pattern.sub(r'', text)"
   ]
  },
  {
   "cell_type": "code",
   "execution_count": 53,
   "metadata": {
    "execution": {
     "iopub.execute_input": "2023-06-24T09:26:00.890893Z",
     "iopub.status.busy": "2023-06-24T09:26:00.890478Z",
     "iopub.status.idle": "2023-06-24T09:26:00.900025Z",
     "shell.execute_reply": "2023-06-24T09:26:00.898972Z",
     "shell.execute_reply.started": "2023-06-24T09:26:00.890858Z"
    }
   },
   "outputs": [
    {
     "data": {
      "text/plain": [
       "'Loved the movie. It was '"
      ]
     },
     "execution_count": 53,
     "metadata": {},
     "output_type": "execute_result"
    }
   ],
   "source": [
    "remove_emoji(\"Loved the movie. It was 😘😘\")"
   ]
  },
  {
   "cell_type": "code",
   "execution_count": 54,
   "metadata": {
    "execution": {
     "iopub.execute_input": "2023-06-24T09:26:02.040830Z",
     "iopub.status.busy": "2023-06-24T09:26:02.040544Z",
     "iopub.status.idle": "2023-06-24T09:26:02.046803Z",
     "shell.execute_reply": "2023-06-24T09:26:02.045621Z",
     "shell.execute_reply.started": "2023-06-24T09:26:02.040797Z"
    }
   },
   "outputs": [
    {
     "data": {
      "text/plain": [
       "'Lmao '"
      ]
     },
     "execution_count": 54,
     "metadata": {},
     "output_type": "execute_result"
    }
   ],
   "source": [
    "remove_emoji(\"Lmao 😂😂\")"
   ]
  },
  {
   "cell_type": "code",
   "execution_count": 55,
   "metadata": {
    "execution": {
     "iopub.execute_input": "2023-06-24T09:26:10.926400Z",
     "iopub.status.busy": "2023-06-24T09:26:10.925481Z",
     "iopub.status.idle": "2023-06-24T09:26:11.150913Z",
     "shell.execute_reply": "2023-06-24T09:26:11.149447Z",
     "shell.execute_reply.started": "2023-06-24T09:26:10.926345Z"
    }
   },
   "outputs": [
    {
     "name": "stdout",
     "output_type": "stream",
     "text": [
      "Python is :fire:\n"
     ]
    }
   ],
   "source": [
    "import emoji\n",
    "print(emoji.demojize('Python is 🔥'))"
   ]
  },
  {
   "cell_type": "code",
   "execution_count": 56,
   "metadata": {
    "execution": {
     "iopub.execute_input": "2023-06-24T09:26:14.520728Z",
     "iopub.status.busy": "2023-06-24T09:26:14.520476Z",
     "iopub.status.idle": "2023-06-24T09:26:14.525278Z",
     "shell.execute_reply": "2023-06-24T09:26:14.524515Z",
     "shell.execute_reply.started": "2023-06-24T09:26:14.520702Z"
    }
   },
   "outputs": [
    {
     "name": "stdout",
     "output_type": "stream",
     "text": [
      "Loved the movie. It was :face_blowing_a_kiss:\n"
     ]
    }
   ],
   "source": [
    "print(emoji.demojize('Loved the movie. It was 😘'))"
   ]
  },
  {
   "cell_type": "markdown",
   "metadata": {},
   "source": [
    "# **Tokenization**"
   ]
  },
  {
   "cell_type": "markdown",
   "metadata": {},
   "source": [
    "**Tokenization is breaking the raw text into small chunks**"
   ]
  },
  {
   "cell_type": "markdown",
   "metadata": {},
   "source": [
    "### 1. Using the split function"
   ]
  },
  {
   "cell_type": "code",
   "execution_count": 57,
   "metadata": {
    "execution": {
     "iopub.execute_input": "2023-06-24T09:45:21.822448Z",
     "iopub.status.busy": "2023-06-24T09:45:21.822226Z",
     "iopub.status.idle": "2023-06-24T09:45:21.829051Z",
     "shell.execute_reply": "2023-06-24T09:45:21.828134Z",
     "shell.execute_reply.started": "2023-06-24T09:45:21.822424Z"
    }
   },
   "outputs": [
    {
     "data": {
      "text/plain": [
       "['I', 'am', 'going', 'to', 'delhi']"
      ]
     },
     "execution_count": 57,
     "metadata": {},
     "output_type": "execute_result"
    }
   ],
   "source": [
    "# word tokenization\n",
    "sent1 = 'I am going to delhi'\n",
    "sent1.split()"
   ]
  },
  {
   "cell_type": "code",
   "execution_count": 58,
   "metadata": {
    "execution": {
     "iopub.execute_input": "2023-06-24T09:45:24.783127Z",
     "iopub.status.busy": "2023-06-24T09:45:24.782857Z",
     "iopub.status.idle": "2023-06-24T09:45:24.789946Z",
     "shell.execute_reply": "2023-06-24T09:45:24.788660Z",
     "shell.execute_reply.started": "2023-06-24T09:45:24.783097Z"
    }
   },
   "outputs": [
    {
     "data": {
      "text/plain": [
       "['I am going to delhi',\n",
       " ' I will stay there for 3 days',\n",
       " \" Let's hope the trip to be great\"]"
      ]
     },
     "execution_count": 58,
     "metadata": {},
     "output_type": "execute_result"
    }
   ],
   "source": [
    "# sentence tokenization\n",
    "sent2 = 'I am going to delhi. I will stay there for 3 days. Let\\'s hope the trip to be great'\n",
    "sent2.split('.')"
   ]
  },
  {
   "cell_type": "code",
   "execution_count": 59,
   "metadata": {
    "execution": {
     "iopub.execute_input": "2023-06-24T09:45:28.392759Z",
     "iopub.status.busy": "2023-06-24T09:45:28.392320Z",
     "iopub.status.idle": "2023-06-24T09:45:28.399020Z",
     "shell.execute_reply": "2023-06-24T09:45:28.398286Z",
     "shell.execute_reply.started": "2023-06-24T09:45:28.392727Z"
    }
   },
   "outputs": [
    {
     "data": {
      "text/plain": [
       "['I', 'am', 'going', 'to', 'delhi!']"
      ]
     },
     "execution_count": 59,
     "metadata": {},
     "output_type": "execute_result"
    }
   ],
   "source": [
    "# Problems with split function\n",
    "sent3 = 'I am going to delhi!'\n",
    "sent3.split()"
   ]
  },
  {
   "cell_type": "code",
   "execution_count": 60,
   "metadata": {
    "execution": {
     "iopub.execute_input": "2023-06-24T09:45:33.702880Z",
     "iopub.status.busy": "2023-06-24T09:45:33.702591Z",
     "iopub.status.idle": "2023-06-24T09:45:33.709524Z",
     "shell.execute_reply": "2023-06-24T09:45:33.708482Z",
     "shell.execute_reply.started": "2023-06-24T09:45:33.702852Z"
    }
   },
   "outputs": [
    {
     "data": {
      "text/plain": [
       "['Where do think I should go? I have 3 day holiday']"
      ]
     },
     "execution_count": 60,
     "metadata": {},
     "output_type": "execute_result"
    }
   ],
   "source": [
    "sent4 = 'Where do think I should go? I have 3 day holiday'\n",
    "sent4.split('.')"
   ]
  },
  {
   "cell_type": "markdown",
   "metadata": {},
   "source": [
    "### 2. Regular Expression"
   ]
  },
  {
   "cell_type": "code",
   "execution_count": 61,
   "metadata": {
    "execution": {
     "iopub.execute_input": "2023-06-24T09:47:41.162358Z",
     "iopub.status.busy": "2023-06-24T09:47:41.161573Z",
     "iopub.status.idle": "2023-06-24T09:47:41.168713Z",
     "shell.execute_reply": "2023-06-24T09:47:41.168016Z",
     "shell.execute_reply.started": "2023-06-24T09:47:41.162306Z"
    }
   },
   "outputs": [
    {
     "data": {
      "text/plain": [
       "['I', 'am', 'going', 'to', 'delhi']"
      ]
     },
     "execution_count": 61,
     "metadata": {},
     "output_type": "execute_result"
    }
   ],
   "source": [
    "import re\n",
    "sent3 = 'I am going to delhi!'\n",
    "tokens = re.findall(\"[\\w']+\", sent3)\n",
    "tokens"
   ]
  },
  {
   "cell_type": "code",
   "execution_count": 62,
   "metadata": {
    "execution": {
     "iopub.execute_input": "2023-06-24T09:50:03.946560Z",
     "iopub.status.busy": "2023-06-24T09:50:03.946279Z",
     "iopub.status.idle": "2023-06-24T09:50:03.953273Z",
     "shell.execute_reply": "2023-06-24T09:50:03.952664Z",
     "shell.execute_reply.started": "2023-06-24T09:50:03.946528Z"
    }
   },
   "outputs": [
    {
     "data": {
      "text/plain": [
       "['Lorem Ipsum is simply dummy text of the printing and typesetting industry',\n",
       " \"\\nLorem Ipsum has been the industry's standard dummy text ever since the 1500s, \\nwhen an unknown printer took a galley of type and scrambled it to make a type specimen book.\"]"
      ]
     },
     "execution_count": 62,
     "metadata": {},
     "output_type": "execute_result"
    }
   ],
   "source": [
    "\n",
    "text = \"\"\"Lorem Ipsum is simply dummy text of the printing and typesetting industry? \n",
    "Lorem Ipsum has been the industry's standard dummy text ever since the 1500s, \n",
    "when an unknown printer took a galley of type and scrambled it to make a type specimen book.\"\"\"\n",
    "sentences = re.compile('[.!?] ').split(text)\n",
    "sentences"
   ]
  },
  {
   "cell_type": "markdown",
   "metadata": {},
   "source": [
    "### 3. NLTK"
   ]
  },
  {
   "cell_type": "code",
   "execution_count": 63,
   "metadata": {
    "execution": {
     "iopub.execute_input": "2023-06-24T09:53:30.652676Z",
     "iopub.status.busy": "2023-06-24T09:53:30.652367Z",
     "iopub.status.idle": "2023-06-24T09:53:30.657953Z",
     "shell.execute_reply": "2023-06-24T09:53:30.656821Z",
     "shell.execute_reply.started": "2023-06-24T09:53:30.652643Z"
    }
   },
   "outputs": [],
   "source": [
    "from nltk.tokenize import word_tokenize,sent_tokenize"
   ]
  },
  {
   "cell_type": "code",
   "execution_count": 64,
   "metadata": {
    "execution": {
     "iopub.execute_input": "2023-06-24T09:53:33.091053Z",
     "iopub.status.busy": "2023-06-24T09:53:33.090787Z",
     "iopub.status.idle": "2023-06-24T09:53:33.109135Z",
     "shell.execute_reply": "2023-06-24T09:53:33.108204Z",
     "shell.execute_reply.started": "2023-06-24T09:53:33.091025Z"
    }
   },
   "outputs": [
    {
     "data": {
      "text/plain": [
       "['I', 'am', 'going', 'to', 'visit', 'delhi', '!']"
      ]
     },
     "execution_count": 64,
     "metadata": {},
     "output_type": "execute_result"
    }
   ],
   "source": [
    "sent1 = 'I am going to visit delhi!'\n",
    "word_tokenize(sent1)"
   ]
  },
  {
   "cell_type": "code",
   "execution_count": 65,
   "metadata": {
    "execution": {
     "iopub.execute_input": "2023-06-24T09:53:44.591830Z",
     "iopub.status.busy": "2023-06-24T09:53:44.591194Z",
     "iopub.status.idle": "2023-06-24T09:53:44.599566Z",
     "shell.execute_reply": "2023-06-24T09:53:44.598683Z",
     "shell.execute_reply.started": "2023-06-24T09:53:44.591776Z"
    }
   },
   "outputs": [
    {
     "data": {
      "text/plain": [
       "['Lorem Ipsum is simply dummy text of the printing and typesetting industry?',\n",
       " \"Lorem Ipsum has been the industry's standard dummy text ever since the 1500s, \\nwhen an unknown printer took a galley of type and scrambled it to make a type specimen book.\"]"
      ]
     },
     "execution_count": 65,
     "metadata": {},
     "output_type": "execute_result"
    }
   ],
   "source": [
    "text = \"\"\"Lorem Ipsum is simply dummy text of the printing and typesetting industry? \n",
    "Lorem Ipsum has been the industry's standard dummy text ever since the 1500s, \n",
    "when an unknown printer took a galley of type and scrambled it to make a type specimen book.\"\"\"\n",
    "\n",
    "sent_tokenize(text)"
   ]
  },
  {
   "cell_type": "code",
   "execution_count": 66,
   "metadata": {
    "execution": {
     "iopub.execute_input": "2023-06-24T09:53:53.785783Z",
     "iopub.status.busy": "2023-06-24T09:53:53.785501Z",
     "iopub.status.idle": "2023-06-24T09:53:53.792286Z",
     "shell.execute_reply": "2023-06-24T09:53:53.791413Z",
     "shell.execute_reply.started": "2023-06-24T09:53:53.785754Z"
    }
   },
   "outputs": [
    {
     "data": {
      "text/plain": [
       "['I', 'have', 'a', 'Ph.D', 'in', 'A.I']"
      ]
     },
     "execution_count": 66,
     "metadata": {},
     "output_type": "execute_result"
    }
   ],
   "source": [
    "sent5 = 'I have a Ph.D in A.I'\n",
    "sent6 = \"We're here to help! mail us at nks@gmail.com\"\n",
    "sent7 = 'A 5km ride cost $10.50'\n",
    "\n",
    "word_tokenize(sent5)"
   ]
  },
  {
   "cell_type": "code",
   "execution_count": 67,
   "metadata": {
    "execution": {
     "iopub.execute_input": "2023-06-24T09:53:57.051160Z",
     "iopub.status.busy": "2023-06-24T09:53:57.050893Z",
     "iopub.status.idle": "2023-06-24T09:53:57.058501Z",
     "shell.execute_reply": "2023-06-24T09:53:57.056991Z",
     "shell.execute_reply.started": "2023-06-24T09:53:57.051132Z"
    }
   },
   "outputs": [
    {
     "data": {
      "text/plain": [
       "['We',\n",
       " \"'re\",\n",
       " 'here',\n",
       " 'to',\n",
       " 'help',\n",
       " '!',\n",
       " 'mail',\n",
       " 'us',\n",
       " 'at',\n",
       " 'nks',\n",
       " '@',\n",
       " 'gmail.com']"
      ]
     },
     "execution_count": 67,
     "metadata": {},
     "output_type": "execute_result"
    }
   ],
   "source": [
    "word_tokenize(sent6)"
   ]
  },
  {
   "cell_type": "code",
   "execution_count": 68,
   "metadata": {
    "execution": {
     "iopub.execute_input": "2023-06-24T09:53:59.121122Z",
     "iopub.status.busy": "2023-06-24T09:53:59.120773Z",
     "iopub.status.idle": "2023-06-24T09:53:59.127920Z",
     "shell.execute_reply": "2023-06-24T09:53:59.126714Z",
     "shell.execute_reply.started": "2023-06-24T09:53:59.121091Z"
    }
   },
   "outputs": [
    {
     "data": {
      "text/plain": [
       "['A', '5km', 'ride', 'cost', '$', '10.50']"
      ]
     },
     "execution_count": 68,
     "metadata": {},
     "output_type": "execute_result"
    }
   ],
   "source": [
    "word_tokenize(sent7)"
   ]
  },
  {
   "cell_type": "markdown",
   "metadata": {},
   "source": [
    "### 4. Spacy"
   ]
  },
  {
   "cell_type": "code",
   "execution_count": 69,
   "metadata": {
    "execution": {
     "iopub.execute_input": "2023-06-24T09:54:40.192294Z",
     "iopub.status.busy": "2023-06-24T09:54:40.191967Z",
     "iopub.status.idle": "2023-06-24T09:54:50.753587Z",
     "shell.execute_reply": "2023-06-24T09:54:50.752436Z",
     "shell.execute_reply.started": "2023-06-24T09:54:40.192258Z"
    }
   },
   "outputs": [],
   "source": [
    "import spacy\n",
    "nlp = spacy.load('en_core_web_sm')     #This is a dictionary"
   ]
  },
  {
   "cell_type": "code",
   "execution_count": 70,
   "metadata": {
    "execution": {
     "iopub.execute_input": "2023-06-24T09:55:44.692004Z",
     "iopub.status.busy": "2023-06-24T09:55:44.691704Z",
     "iopub.status.idle": "2023-06-24T09:55:44.734551Z",
     "shell.execute_reply": "2023-06-24T09:55:44.733428Z",
     "shell.execute_reply.started": "2023-06-24T09:55:44.691974Z"
    }
   },
   "outputs": [],
   "source": [
    "doc1 = nlp(sent5)\n",
    "doc2 = nlp(sent6)\n",
    "doc3 = nlp(sent7)\n",
    "doc4 = nlp(sent1)"
   ]
  },
  {
   "cell_type": "code",
   "execution_count": 71,
   "metadata": {
    "execution": {
     "iopub.execute_input": "2023-06-24T09:55:48.431324Z",
     "iopub.status.busy": "2023-06-24T09:55:48.430685Z",
     "iopub.status.idle": "2023-06-24T09:55:48.437513Z",
     "shell.execute_reply": "2023-06-24T09:55:48.436573Z",
     "shell.execute_reply.started": "2023-06-24T09:55:48.431286Z"
    }
   },
   "outputs": [
    {
     "name": "stdout",
     "output_type": "stream",
     "text": [
      "I\n",
      "am\n",
      "going\n",
      "to\n",
      "visit\n",
      "delhi\n",
      "!\n"
     ]
    }
   ],
   "source": [
    "for token in doc4:\n",
    "    print(token)"
   ]
  },
  {
   "cell_type": "markdown",
   "metadata": {},
   "source": [
    "# **Stemming**"
   ]
  },
  {
   "cell_type": "markdown",
   "metadata": {},
   "source": [
    "**the process of reducing a word to its stem**"
   ]
  },
  {
   "cell_type": "code",
   "execution_count": 72,
   "metadata": {
    "execution": {
     "iopub.execute_input": "2023-06-24T10:04:47.489622Z",
     "iopub.status.busy": "2023-06-24T10:04:47.489357Z",
     "iopub.status.idle": "2023-06-24T10:04:47.494274Z",
     "shell.execute_reply": "2023-06-24T10:04:47.493629Z",
     "shell.execute_reply.started": "2023-06-24T10:04:47.489571Z"
    }
   },
   "outputs": [],
   "source": [
    "from nltk.stem.porter import PorterStemmer"
   ]
  },
  {
   "cell_type": "code",
   "execution_count": 73,
   "metadata": {
    "execution": {
     "iopub.execute_input": "2023-06-24T10:04:49.120479Z",
     "iopub.status.busy": "2023-06-24T10:04:49.119909Z",
     "iopub.status.idle": "2023-06-24T10:04:49.125854Z",
     "shell.execute_reply": "2023-06-24T10:04:49.124707Z",
     "shell.execute_reply.started": "2023-06-24T10:04:49.120438Z"
    }
   },
   "outputs": [],
   "source": [
    "ps = PorterStemmer()\n",
    "def stem_words(text):\n",
    "    return \" \".join([ps.stem(word) for word in text.split()])"
   ]
  },
  {
   "cell_type": "code",
   "execution_count": 74,
   "metadata": {
    "execution": {
     "iopub.execute_input": "2023-06-24T10:04:51.199446Z",
     "iopub.status.busy": "2023-06-24T10:04:51.199170Z",
     "iopub.status.idle": "2023-06-24T10:04:51.206290Z",
     "shell.execute_reply": "2023-06-24T10:04:51.204929Z",
     "shell.execute_reply.started": "2023-06-24T10:04:51.199419Z"
    }
   },
   "outputs": [
    {
     "data": {
      "text/plain": [
       "'walk walk walk walk'"
      ]
     },
     "execution_count": 74,
     "metadata": {},
     "output_type": "execute_result"
    }
   ],
   "source": [
    "sample = \"walk walks walking walked\"\n",
    "stem_words(sample)"
   ]
  },
  {
   "cell_type": "code",
   "execution_count": 75,
   "metadata": {
    "execution": {
     "iopub.execute_input": "2023-06-24T10:04:52.205702Z",
     "iopub.status.busy": "2023-06-24T10:04:52.205434Z",
     "iopub.status.idle": "2023-06-24T10:04:52.211539Z",
     "shell.execute_reply": "2023-06-24T10:04:52.210373Z",
     "shell.execute_reply.started": "2023-06-24T10:04:52.205674Z"
    }
   },
   "outputs": [
    {
     "name": "stdout",
     "output_type": "stream",
     "text": [
      "probably my alltime favorite movie a story of selflessness sacrifice and dedication to a noble cause but its not preachy or boring it just never gets old despite my having seen it some 15 or more times in the last 25 years paul lukas performance brings tears to my eyes and bette davis in one of her very few truly sympathetic roles is a delight the kids are as grandma says more like dressedup midgets than children but that only makes them more fun to watch and the mothers slow awakening to whats happening in the world and under her own roof is believable and startling if i had a dozen thumbs theyd all be up for this movie\n"
     ]
    }
   ],
   "source": [
    "text = 'probably my alltime favorite movie a story of selflessness sacrifice and dedication to a noble cause but its not preachy or boring it just never gets old despite my having seen it some 15 or more times in the last 25 years paul lukas performance brings tears to my eyes and bette davis in one of her very few truly sympathetic roles is a delight the kids are as grandma says more like dressedup midgets than children but that only makes them more fun to watch and the mothers slow awakening to whats happening in the world and under her own roof is believable and startling if i had a dozen thumbs theyd all be up for this movie'\n",
    "print(text)"
   ]
  },
  {
   "cell_type": "code",
   "execution_count": 76,
   "metadata": {
    "execution": {
     "iopub.execute_input": "2023-06-24T10:04:56.967236Z",
     "iopub.status.busy": "2023-06-24T10:04:56.966951Z",
     "iopub.status.idle": "2023-06-24T10:04:56.976054Z",
     "shell.execute_reply": "2023-06-24T10:04:56.974961Z",
     "shell.execute_reply.started": "2023-06-24T10:04:56.967198Z"
    }
   },
   "outputs": [
    {
     "data": {
      "text/plain": [
       "'probabl my alltim favorit movi a stori of selfless sacrific and dedic to a nobl caus but it not preachi or bore it just never get old despit my have seen it some 15 or more time in the last 25 year paul luka perform bring tear to my eye and bett davi in one of her veri few truli sympathet role is a delight the kid are as grandma say more like dressedup midget than children but that onli make them more fun to watch and the mother slow awaken to what happen in the world and under her own roof is believ and startl if i had a dozen thumb theyd all be up for thi movi'"
      ]
     },
     "execution_count": 76,
     "metadata": {},
     "output_type": "execute_result"
    }
   ],
   "source": [
    "stem_words(text)"
   ]
  },
  {
   "cell_type": "markdown",
   "metadata": {},
   "source": [
    "# **Lemmatization**"
   ]
  },
  {
   "cell_type": "markdown",
   "metadata": {},
   "source": [
    "**like stemming but the returned word is always a english word unlike stemming**"
   ]
  },
  {
   "cell_type": "code",
   "execution_count": 77,
   "metadata": {
    "execution": {
     "iopub.execute_input": "2023-06-24T10:06:00.771049Z",
     "iopub.status.busy": "2023-06-24T10:06:00.770773Z",
     "iopub.status.idle": "2023-06-24T10:06:02.511738Z",
     "shell.execute_reply": "2023-06-24T10:06:02.510812Z",
     "shell.execute_reply.started": "2023-06-24T10:06:00.771018Z"
    }
   },
   "outputs": [
    {
     "name": "stdout",
     "output_type": "stream",
     "text": [
      "Word                Lemma               \n",
      "He                  He                  \n",
      "was                 be                  \n",
      "running             run                 \n",
      "and                 and                 \n",
      "eating              eat                 \n",
      "at                  at                  \n",
      "same                same                \n",
      "time                time                \n",
      "He                  He                  \n",
      "has                 have                \n",
      "bad                 bad                 \n",
      "habit               habit               \n",
      "of                  of                  \n",
      "swimming            swim                \n",
      "after               after               \n",
      "playing             play                \n",
      "long                long                \n",
      "hours               hours               \n",
      "in                  in                  \n",
      "the                 the                 \n",
      "Sun                 Sun                 \n"
     ]
    }
   ],
   "source": [
    "import nltk\n",
    "from nltk.stem import WordNetLemmatizer\n",
    "wordnet_lemmatizer = WordNetLemmatizer()\n",
    "\n",
    "sentence = \"He was running and eating at same time. He has bad habit of swimming after playing long hours in the Sun.\"\n",
    "punctuations=\"?:!.,;\"\n",
    "sentence_words = nltk.word_tokenize(sentence)\n",
    "for word in sentence_words:\n",
    "    if word in punctuations:\n",
    "        sentence_words.remove(word)\n",
    "\n",
    "sentence_words\n",
    "print(\"{0:20}{1:20}\".format(\"Word\",\"Lemma\"))\n",
    "for word in sentence_words:\n",
    "    print (\"{0:20}{1:20}\".format(word,wordnet_lemmatizer.lemmatize(word,pos='v')))"
   ]
  },
  {
   "cell_type": "code",
   "execution_count": null,
   "metadata": {},
   "outputs": [],
   "source": []
  }
 ],
 "metadata": {
  "kernelspec": {
   "display_name": "Python 3 (ipykernel)",
   "language": "python",
   "name": "python3"
  },
  "language_info": {
   "codemirror_mode": {
    "name": "ipython",
    "version": 3
   },
   "file_extension": ".py",
   "mimetype": "text/x-python",
   "name": "python",
   "nbconvert_exporter": "python",
   "pygments_lexer": "ipython3",
   "version": "3.10.1"
  }
 },
 "nbformat": 4,
 "nbformat_minor": 4
}
